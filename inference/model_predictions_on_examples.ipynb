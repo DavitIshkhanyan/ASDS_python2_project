{
 "cells": [
  {
   "cell_type": "code",
   "execution_count": 1,
   "id": "4eea4d67",
   "metadata": {},
   "outputs": [],
   "source": [
    "import os\n",
    "import model_prediction\n",
    "from model_prediction import FashionMnist"
   ]
  },
  {
   "cell_type": "code",
   "execution_count": 2,
   "id": "515ce46d",
   "metadata": {},
   "outputs": [],
   "source": [
    "dir_path = os.path.dirname(\n",
    "    os.path.realpath(os.path.join(os.getcwd()))\n",
    ")"
   ]
  },
  {
   "cell_type": "code",
   "execution_count": 3,
   "id": "0c3aadc2",
   "metadata": {},
   "outputs": [],
   "source": [
    "fmnist = FashionMnist(dir_path + \"\\\\model\\\\saved_model.pth\")"
   ]
  },
  {
   "cell_type": "code",
   "execution_count": 4,
   "id": "25217b48",
   "metadata": {
    "scrolled": true
   },
   "outputs": [
    {
     "data": {
      "image/png": "[encoded data removed]",
      "text/plain": [
       "<Figure size 144x144 with 1 Axes>"
      ]
     },
     "metadata": {},
     "output_type": "display_data"
    },
    {
     "name": "stdout",
     "output_type": "stream",
     "text": [
      "Real label of image is:  Dress (3)\n",
      "Predicted label of image is:  Dress (3)\n"
     ]
    },
    {
     "data": {
      "text/plain": [
       "(3, 'Dress')"
      ]
     },
     "execution_count": 4,
     "metadata": {},
     "output_type": "execute_result"
    }
   ],
   "source": [
    "image  = fmnist.read_jpeg_image(dir_path + \"\\\\data\\\\inference_prediction\\\\test_image_3.jpeg\")\n",
    "fmnist.plot_image(image)\n",
    "fmnist.predict(image, label=3)"
   ]
  }
 ],
 "metadata": {
  "kernelspec": {
   "display_name": "Python 3 (ipykernel)",
   "language": "python",
   "name": "python3"
  },
  "language_info": {
   "codemirror_mode": {
    "name": "ipython",
    "version": 3
   },
   "file_extension": ".py",
   "mimetype": "text/x-python",
   "name": "python",
   "nbconvert_exporter": "python",
   "pygments_lexer": "ipython3",
   "version": "3.9.7"
  }
 },
 "nbformat": 4,
 "nbformat_minor": 5
}
