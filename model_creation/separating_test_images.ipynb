{
 "cells": [
  {
   "cell_type": "code",
   "execution_count": 12,
   "id": "b3fd0a2a",
   "metadata": {},
   "outputs": [],
   "source": [
    "import numpy as np\n",
    "import cv2\n",
    "import os\n",
    "import gzip\n",
    "import idx2numpy"
   ]
  },
  {
   "cell_type": "code",
   "execution_count": 13,
   "id": "33e472f5",
   "metadata": {},
   "outputs": [],
   "source": [
    "np.random.seed(42)\n",
    "dir_path = os.path.dirname(\n",
    "    os.path.realpath(os.path.join(os.getcwd()))\n",
    ")\n",
    "\n",
    "with gzip.open(dir_path+\"/data/fashion_mnist/t10k-images-idx3-ubyte.gz\", 'rb') as f:\n",
    "    test_data = idx2numpy.convert_from_file(f)\n",
    "\n",
    "with gzip.open(dir_path+\"/data/fashion_mnist/t10k-labels-idx1-ubyte.gz\", 'rb') as f:\n",
    "    test_labels = idx2numpy.convert_from_file(f)"
   ]
  },
  {
   "cell_type": "code",
   "execution_count": 21,
   "id": "2d61416e",
   "metadata": {},
   "outputs": [],
   "source": [
    "for i in range(10):\n",
    "    for j in range(len(test_labels)):\n",
    "        if test_labels[j] == i:\n",
    "            cv2.imwrite(dir_path+f\"/data/inference_prediction/test_image_{test_labels[j]}.jpeg\", test_data[j])"
   ]
  }
 ],
 "metadata": {
  "kernelspec": {
   "display_name": "Python 3 (ipykernel)",
   "language": "python",
   "name": "python3"
  },
  "language_info": {
   "codemirror_mode": {
    "name": "ipython",
    "version": 3
   },
   "file_extension": ".py",
   "mimetype": "text/x-python",
   "name": "python",
   "nbconvert_exporter": "python",
   "pygments_lexer": "ipython3",
   "version": "3.9.7"
  }
 },
 "nbformat": 4,
 "nbformat_minor": 5
}
